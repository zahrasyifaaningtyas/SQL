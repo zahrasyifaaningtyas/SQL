{
  "cells": [
    {
      "cell_type": "markdown",
      "metadata": {
        "id": "BbxPE5rFatdX"
      },
      "source": [
        "# <b>A. <span style='color:#0B2F9F'><code>PREFIX</code></span></b>\n",
        "Prefix merupakan penggunaan awalan pada nama tabel untuk memberikan informasi tambahan atau untuk mengelompokkan objek-objek tertentu. Sebagai contoh perhatikan gambar berikut : <br><br>\n",
        "\n",
        "<img src=\"https://raw.githubusercontent.com/bachtiyarma/Material/refs/heads/main/Image/Materi-SQL/SQL%20-%20Prefix.png\" width=\"50%\">\n",
        "\n",
        "<br><br>\n",
        "Nama tabel dimisalkan (diberi alias) sebagai tbl, lalu untuk mengakses kolom pada tabel tersebut bisa diberi prefix tbl.kolom1 dan seterusnya"
      ]
    },
    {
      "cell_type": "markdown",
      "metadata": {
        "id": "byUeM0yRatdZ"
      },
      "source": [
        "#### <i><b><span style='color:#55679C'>Quest</span> : Pada tabel customer_demography, ambil kolom customer_id, gender, age dan married namun gunakan alias 'cdm' pada nama tabel dan sematkan prefixnya saat mengakses kolom!</b></i>"
      ]
    },
    {
      "cell_type": "code",
      "execution_count": null,
      "metadata": {
        "id": "nN4s7psjatdZ",
        "outputId": "195c9e1f-94dc-4670-8b85-2cb4e2566752"
      },
      "outputs": [
        {
          "data": {
            "text/html": [
              "<style type=\"text/css\">\n",
              "</style>\n",
              "<table id=\"T_aba70\">\n",
              "  <thead>\n",
              "    <tr>\n",
              "      <th id=\"T_aba70_level0_col0\" class=\"col_heading level0 col0\" >customer_id</th>\n",
              "      <th id=\"T_aba70_level0_col1\" class=\"col_heading level0 col1\" >gender</th>\n",
              "      <th id=\"T_aba70_level0_col2\" class=\"col_heading level0 col2\" >age</th>\n",
              "      <th id=\"T_aba70_level0_col3\" class=\"col_heading level0 col3\" >married</th>\n",
              "    </tr>\n",
              "  </thead>\n",
              "  <tbody>\n",
              "    <tr>\n",
              "      <td id=\"T_aba70_row0_col0\" class=\"data row0 col0\" >8779-QRDMV</td>\n",
              "      <td id=\"T_aba70_row0_col1\" class=\"data row0 col1\" >Male</td>\n",
              "      <td id=\"T_aba70_row0_col2\" class=\"data row0 col2\" >78</td>\n",
              "      <td id=\"T_aba70_row0_col3\" class=\"data row0 col3\" >No</td>\n",
              "    </tr>\n",
              "    <tr>\n",
              "      <td id=\"T_aba70_row1_col0\" class=\"data row1 col0\" >7495-OOKFY</td>\n",
              "      <td id=\"T_aba70_row1_col1\" class=\"data row1 col1\" >Female</td>\n",
              "      <td id=\"T_aba70_row1_col2\" class=\"data row1 col2\" >74</td>\n",
              "      <td id=\"T_aba70_row1_col3\" class=\"data row1 col3\" >Yes</td>\n",
              "    </tr>\n",
              "    <tr>\n",
              "      <td id=\"T_aba70_row2_col0\" class=\"data row2 col0\" >1658-BYGOY</td>\n",
              "      <td id=\"T_aba70_row2_col1\" class=\"data row2 col1\" >Male</td>\n",
              "      <td id=\"T_aba70_row2_col2\" class=\"data row2 col2\" >71</td>\n",
              "      <td id=\"T_aba70_row2_col3\" class=\"data row2 col3\" >No</td>\n",
              "    </tr>\n",
              "    <tr>\n",
              "      <td id=\"T_aba70_row3_col0\" class=\"data row3 col0\" >4598-XLKNJ</td>\n",
              "      <td id=\"T_aba70_row3_col1\" class=\"data row3 col1\" >Female</td>\n",
              "      <td id=\"T_aba70_row3_col2\" class=\"data row3 col2\" >78</td>\n",
              "      <td id=\"T_aba70_row3_col3\" class=\"data row3 col3\" >Yes</td>\n",
              "    </tr>\n",
              "    <tr>\n",
              "      <td id=\"T_aba70_row4_col0\" class=\"data row4 col0\" >4846-WHAFZ</td>\n",
              "      <td id=\"T_aba70_row4_col1\" class=\"data row4 col1\" >Female</td>\n",
              "      <td id=\"T_aba70_row4_col2\" class=\"data row4 col2\" >80</td>\n",
              "      <td id=\"T_aba70_row4_col3\" class=\"data row4 col3\" >Yes</td>\n",
              "    </tr>\n",
              "    <tr>\n",
              "      <td id=\"T_aba70_row5_col0\" class=\"data row5 col0\" >4412-YLTKF</td>\n",
              "      <td id=\"T_aba70_row5_col1\" class=\"data row5 col1\" >Female</td>\n",
              "      <td id=\"T_aba70_row5_col2\" class=\"data row5 col2\" >72</td>\n",
              "      <td id=\"T_aba70_row5_col3\" class=\"data row5 col3\" >No</td>\n",
              "    </tr>\n",
              "    <tr>\n",
              "      <td id=\"T_aba70_row6_col0\" class=\"data row6 col0\" >0390-DCFDQ</td>\n",
              "      <td id=\"T_aba70_row6_col1\" class=\"data row6 col1\" >Female</td>\n",
              "      <td id=\"T_aba70_row6_col2\" class=\"data row6 col2\" >76</td>\n",
              "      <td id=\"T_aba70_row6_col3\" class=\"data row6 col3\" >Yes</td>\n",
              "    </tr>\n",
              "    <tr>\n",
              "      <td id=\"T_aba70_row7_col0\" class=\"data row7 col0\" >3445-HXXGF</td>\n",
              "      <td id=\"T_aba70_row7_col1\" class=\"data row7 col1\" >Male</td>\n",
              "      <td id=\"T_aba70_row7_col2\" class=\"data row7 col2\" >66</td>\n",
              "      <td id=\"T_aba70_row7_col3\" class=\"data row7 col3\" >Yes</td>\n",
              "    </tr>\n",
              "    <tr>\n",
              "      <td id=\"T_aba70_row8_col0\" class=\"data row8 col0\" >2656-FMOKZ</td>\n",
              "      <td id=\"T_aba70_row8_col1\" class=\"data row8 col1\" >Female</td>\n",
              "      <td id=\"T_aba70_row8_col2\" class=\"data row8 col2\" >70</td>\n",
              "      <td id=\"T_aba70_row8_col3\" class=\"data row8 col3\" >No</td>\n",
              "    </tr>\n",
              "    <tr>\n",
              "      <td id=\"T_aba70_row9_col0\" class=\"data row9 col0\" >2070-FNEXE</td>\n",
              "      <td id=\"T_aba70_row9_col1\" class=\"data row9 col1\" >Female</td>\n",
              "      <td id=\"T_aba70_row9_col2\" class=\"data row9 col2\" >77</td>\n",
              "      <td id=\"T_aba70_row9_col3\" class=\"data row9 col3\" >No</td>\n",
              "    </tr>\n",
              "    <tr>\n",
              "      <td id=\"T_aba70_row10_col0\" class=\"data row10 col0\" >...</td>\n",
              "      <td id=\"T_aba70_row10_col1\" class=\"data row10 col1\" >...</td>\n",
              "      <td id=\"T_aba70_row10_col2\" class=\"data row10 col2\" >...</td>\n",
              "      <td id=\"T_aba70_row10_col3\" class=\"data row10 col3\" >...</td>\n",
              "    </tr>\n",
              "  </tbody>\n",
              "</table>\n"
            ],
            "text/plain": [
              "<pandas.io.formats.style.Styler at 0x14020cc50>"
            ]
          },
          "metadata": {},
          "output_type": "display_data"
        }
      ],
      "source": [
        "SELECT\n",
        "customer_id,\n",
        "gender,\n",
        "age,\n",
        "married,\n",
        "FROM telco_churn.customer_demography AS cda"
      ]
    },
    {
      "cell_type": "markdown",
      "metadata": {
        "id": "MuwzO2Nvatda"
      },
      "source": [
        "# <b>B. <span style='color:#0B2F9F'><code>JOIN</code></span></b>\n",
        "\n",
        "Data biasanya disimpan di berbagai tabel atau sistem yang berbeda pada RDBMS (Relational Database Management System). JOIN memungkinkan pengguna untuk menggabungkan data dari berbagai sumber untuk mendapatkan gambaran yang lebih lengkap. Memahami query JOIN memungkinkan seorang pengguna untuk mengintegrasikan dan menganalisis data secara efektif, sehingga dapat meningkatkan kualitas analisis dan mendukung pengambilan keputusan berbasis data.\n",
        "\n",
        "Operasi JOIN standar dapat dilakukan jika terdapat kunci pada tiap tabel yang saling terhubung. Operasi join dasar yang paling umum digunakan ada 4 yakni :\n",
        "<ul>\n",
        "    <li><b>LEFT JOIN</b></li>\n",
        "    LEFT JOIN adalah jenis operasi penggabungan baris dari dua tabel, tetapi hanya mengembalikan semua baris dari tabel kiri (tabel pertama) dan baris yang cocok dari tabel kanan (tabel kedua). Jika tidak ada kecocokan di tabel kanan, maka nilai-nilai untuk kolom dari tabel kanan akan diisi dengan NULL.<br><br>\n",
        "    <img src=\"https://thomasadventure.blog/img/left-join-extra.gif\" width=\"20%\">\n",
        "    <br><br>\n",
        "    <li><b>RIGHT JOIN</b></li>\n",
        "    RIGHT JOIN adalah jenis operasi penggabungan baris dari dua tabel, tetapi hanya mengembalikan semua baris dari tabel kanan (tabel kedua) dan baris yang cocok dari tabel kiri (tabel pertama). Jika tidak ada kecocokan di tabel kiri, maka nilai-nilai untuk kolom dari tabel kiri akan diisi dengan NULL.<br><br>\n",
        "    <img src=\"https://thomasadventure.blog/img/right-join.gif\" width=\"20%\">\n",
        "    <br><br>\n",
        "    <li><b>INNER JOIN</b></li>\n",
        "    INNER JOIN adalah jenis operasi penggabungan yang hanya mengembalikan baris yang memiliki kecocokan di kedua tabel berdasarkan kriteria tertentu.<br><br>\n",
        "    <img src=\"https://thomasadventure.blog/img/inner-join.gif\" width=\"20%\">\n",
        "    <br><br>\n",
        "     <li><b>FULL JOIN</b></li>\n",
        "    FULL JOIN adalah jenis operasi penggabungan semua baris dari kedua tabel, baik yang memiliki kecocokan maupun yang tidak. Dengan demikian, hasilnya akan mencakup semua data dari tabel kiri dan tabel kanan.<br><br>\n",
        "    <img src=\"https://thomasadventure.blog/img/full-join.gif\" width=\"20%\">\n",
        "    <br><br>\n",
        "</ul>"
      ]
    },
    {
      "cell_type": "markdown",
      "metadata": {
        "id": "De2VzHGOatda"
      },
      "source": [
        "#### <i><b><span style='color:#55679C'>Pre-Quest</span>\n",
        "Untuk melakukan join biasanya akan lebih mudah jika arsitektur relasi antar tabel atau biasa dikenal ERD (Entity Relational Diagram) telah dibuat atau diketahui. Pada data telco churn ERD-nya disajikan pada gambar berikut<br><br>\n",
        "\n",
        "<img src=\"https://raw.githubusercontent.com/bachtiyarma/Material/refs/heads/main/Image/Materi-SQL/ERD%20-%20Telco%20Churn.png\" width=\"40%\">"
      ]
    },
    {
      "cell_type": "markdown",
      "metadata": {
        "id": "9zGPGrvCatda"
      },
      "source": [
        "#### <i><b><span style='color:#55679C'>Quest : </span>Hitung berapa rata-rata biaya bulanan tiap status customer! Tampilkan status, total_customer, avg_monthly_charge! Interpretasikan insight dari hasil perhitungan!"
      ]
    },
    {
      "cell_type": "code",
      "execution_count": null,
      "metadata": {
        "id": "XJSqFnimatda",
        "outputId": "eb1c7550-b19a-40c3-a7bf-816527b6ad55"
      },
      "outputs": [
        {
          "data": {
            "text/html": [
              "<style type=\"text/css\">\n",
              "</style>\n",
              "<table id=\"T_61b47\">\n",
              "  <thead>\n",
              "    <tr>\n",
              "      <th id=\"T_61b47_level0_col0\" class=\"col_heading level0 col0\" >status</th>\n",
              "      <th id=\"T_61b47_level0_col1\" class=\"col_heading level0 col1\" >total_customer</th>\n",
              "      <th id=\"T_61b47_level0_col2\" class=\"col_heading level0 col2\" >avg_monthly_charge</th>\n",
              "    </tr>\n",
              "  </thead>\n",
              "  <tbody>\n",
              "    <tr>\n",
              "      <td id=\"T_61b47_row0_col0\" class=\"data row0 col0\" >Churned</td>\n",
              "      <td id=\"T_61b47_row0_col1\" class=\"data row0 col1\" >1869</td>\n",
              "      <td id=\"T_61b47_row0_col2\" class=\"data row0 col2\" >74.44</td>\n",
              "    </tr>\n",
              "    <tr>\n",
              "      <td id=\"T_61b47_row1_col0\" class=\"data row1 col0\" >Joined</td>\n",
              "      <td id=\"T_61b47_row1_col1\" class=\"data row1 col1\" >454</td>\n",
              "      <td id=\"T_61b47_row1_col2\" class=\"data row1 col2\" >43.47</td>\n",
              "    </tr>\n",
              "    <tr>\n",
              "      <td id=\"T_61b47_row2_col0\" class=\"data row2 col0\" >Stayed</td>\n",
              "      <td id=\"T_61b47_row2_col1\" class=\"data row2 col1\" >4720</td>\n",
              "      <td id=\"T_61b47_row2_col2\" class=\"data row2 col2\" >62.98</td>\n",
              "    </tr>\n",
              "  </tbody>\n",
              "</table>\n"
            ],
            "text/plain": [
              "<pandas.io.formats.style.Styler at 0x140326850>"
            ]
          },
          "metadata": {},
          "output_type": "display_data"
        }
      ],
      "source": [
        "SELECT\n",
        " sts.status,\n",
        " COUNT (sts.customer_id) AS total_customer,\n",
        " ROUND (AVG (srv.monthly_charge), 2) AS avg_monthly_charge\n",
        "FROM telco_churn.customer_status AS sts\n",
        "INNER JOIN telco_churn.telco_services AS srv ON sts.customer_id = srv.customer_id\n",
        "GROUP BY sts.status"
      ]
    },
    {
      "cell_type": "markdown",
      "metadata": {
        "id": "YTLRoVx1atdb"
      },
      "source": [
        "<b><span style='color:#FFDB00'><i>Interpretasi Hasil : </i></span></b><br>\n",
        "Churned (Pelanggan Berhenti)\n",
        "\n",
        "Total pelanggan: 1.869\n",
        "Rata-rata biaya bulanan: $74.44\n",
        "Pelanggan yang berhenti memiliki rata-rata pengeluaran bulanan tertinggi dibandingkan kelompok lain. Hal ini dapat menunjukkan bahwa biaya yang tinggi mungkin menjadi salah satu alasan pelanggan memutuskan untuk berhenti.\n",
        "Joined (Pelanggan Baru)\n",
        "\n",
        "Total pelanggan: 454\n",
        "Rata-rata biaya bulanan: $43.47\n",
        "Pelanggan baru memiliki rata-rata pengeluaran bulanan yang paling rendah. Hal ini mungkin karena mereka cenderung memilih paket yang lebih murah atau sedang mencoba layanan sebelum melakukan upgrade ke paket yang lebih mahal.\n",
        "Stayed (Pelanggan Bertahan)\n",
        "\n",
        "Total pelanggan: 4.720\n",
        "Rata-rata biaya bulanan: $62.98\n",
        "Pelanggan yang bertahan memiliki rata-rata pengeluaran bulanan yang berada di tengah-tengah. Ini menunjukkan bahwa sebagian besar pelanggan masih merasa nyaman dengan biaya bulanan yang dikenakan, meskipun lebih tinggi daripada pelanggan baru."
      ]
    },
    {
      "cell_type": "markdown",
      "metadata": {
        "id": "LtbG54gjatdb"
      },
      "source": [
        "#### <i><b><span style='color:#55679C'>Quest : </span>Coba Sudut Pandang Lebih Luas; Hitung berapa banyak customer, rata-rata biaya bulanan & rata-rata umur tiap status customer, gender dan status pernikahannya! Tampilkan status, gender, married, total_customer, avg_monthly_charge! Urutkan hasilnya per metrik perhitungan dan Interpretasikan insight dari hasil perhitungan!"
      ]
    },
    {
      "cell_type": "code",
      "execution_count": null,
      "metadata": {
        "id": "SIG-tKJoatdc",
        "outputId": "9f02696b-bb7e-41f6-afd0-caf42c75565c"
      },
      "outputs": [
        {
          "data": {
            "text/html": [
              "<style type=\"text/css\">\n",
              "</style>\n",
              "<table id=\"T_ebe24\">\n",
              "  <thead>\n",
              "    <tr>\n",
              "      <th id=\"T_ebe24_level0_col0\" class=\"col_heading level0 col0\" >status</th>\n",
              "      <th id=\"T_ebe24_level0_col1\" class=\"col_heading level0 col1\" >gender</th>\n",
              "      <th id=\"T_ebe24_level0_col2\" class=\"col_heading level0 col2\" >married</th>\n",
              "      <th id=\"T_ebe24_level0_col3\" class=\"col_heading level0 col3\" >total_customer</th>\n",
              "      <th id=\"T_ebe24_level0_col4\" class=\"col_heading level0 col4\" >avg_monthly_charge</th>\n",
              "    </tr>\n",
              "  </thead>\n",
              "  <tbody>\n",
              "    <tr>\n",
              "      <td id=\"T_ebe24_row0_col0\" class=\"data row0 col0\" >Churned</td>\n",
              "      <td id=\"T_ebe24_row0_col1\" class=\"data row0 col1\" >Female</td>\n",
              "      <td id=\"T_ebe24_row0_col2\" class=\"data row0 col2\" >Yes</td>\n",
              "      <td id=\"T_ebe24_row0_col3\" class=\"data row0 col3\" >319</td>\n",
              "      <td id=\"T_ebe24_row0_col4\" class=\"data row0 col4\" >78.0</td>\n",
              "    </tr>\n",
              "    <tr>\n",
              "      <td id=\"T_ebe24_row1_col0\" class=\"data row1 col0\" >Churned</td>\n",
              "      <td id=\"T_ebe24_row1_col1\" class=\"data row1 col1\" >Female</td>\n",
              "      <td id=\"T_ebe24_row1_col2\" class=\"data row1 col2\" >No</td>\n",
              "      <td id=\"T_ebe24_row1_col3\" class=\"data row1 col3\" >620</td>\n",
              "      <td id=\"T_ebe24_row1_col4\" class=\"data row1 col4\" >73.17</td>\n",
              "    </tr>\n",
              "    <tr>\n",
              "      <td id=\"T_ebe24_row2_col0\" class=\"data row2 col0\" >Churned</td>\n",
              "      <td id=\"T_ebe24_row2_col1\" class=\"data row2 col1\" >Male</td>\n",
              "      <td id=\"T_ebe24_row2_col2\" class=\"data row2 col2\" >Yes</td>\n",
              "      <td id=\"T_ebe24_row2_col3\" class=\"data row2 col3\" >350</td>\n",
              "      <td id=\"T_ebe24_row2_col4\" class=\"data row2 col4\" >81.45</td>\n",
              "    </tr>\n",
              "    <tr>\n",
              "      <td id=\"T_ebe24_row3_col0\" class=\"data row3 col0\" >Churned</td>\n",
              "      <td id=\"T_ebe24_row3_col1\" class=\"data row3 col1\" >Male</td>\n",
              "      <td id=\"T_ebe24_row3_col2\" class=\"data row3 col2\" >No</td>\n",
              "      <td id=\"T_ebe24_row3_col3\" class=\"data row3 col3\" >580</td>\n",
              "      <td id=\"T_ebe24_row3_col4\" class=\"data row3 col4\" >69.61</td>\n",
              "    </tr>\n",
              "    <tr>\n",
              "      <td id=\"T_ebe24_row4_col0\" class=\"data row4 col0\" >Joined</td>\n",
              "      <td id=\"T_ebe24_row4_col1\" class=\"data row4 col1\" >Female</td>\n",
              "      <td id=\"T_ebe24_row4_col2\" class=\"data row4 col2\" >Yes</td>\n",
              "      <td id=\"T_ebe24_row4_col3\" class=\"data row4 col3\" >46</td>\n",
              "      <td id=\"T_ebe24_row4_col4\" class=\"data row4 col4\" >43.75</td>\n",
              "    </tr>\n",
              "    <tr>\n",
              "      <td id=\"T_ebe24_row5_col0\" class=\"data row5 col0\" >Joined</td>\n",
              "      <td id=\"T_ebe24_row5_col1\" class=\"data row5 col1\" >Female</td>\n",
              "      <td id=\"T_ebe24_row5_col2\" class=\"data row5 col2\" >No</td>\n",
              "      <td id=\"T_ebe24_row5_col3\" class=\"data row5 col3\" >165</td>\n",
              "      <td id=\"T_ebe24_row5_col4\" class=\"data row5 col4\" >43.47</td>\n",
              "    </tr>\n",
              "    <tr>\n",
              "      <td id=\"T_ebe24_row6_col0\" class=\"data row6 col0\" >Joined</td>\n",
              "      <td id=\"T_ebe24_row6_col1\" class=\"data row6 col1\" >Male</td>\n",
              "      <td id=\"T_ebe24_row6_col2\" class=\"data row6 col2\" >Yes</td>\n",
              "      <td id=\"T_ebe24_row6_col3\" class=\"data row6 col3\" >38</td>\n",
              "      <td id=\"T_ebe24_row6_col4\" class=\"data row6 col4\" >48.11</td>\n",
              "    </tr>\n",
              "    <tr>\n",
              "      <td id=\"T_ebe24_row7_col0\" class=\"data row7 col0\" >Joined</td>\n",
              "      <td id=\"T_ebe24_row7_col1\" class=\"data row7 col1\" >Male</td>\n",
              "      <td id=\"T_ebe24_row7_col2\" class=\"data row7 col2\" >No</td>\n",
              "      <td id=\"T_ebe24_row7_col3\" class=\"data row7 col3\" >205</td>\n",
              "      <td id=\"T_ebe24_row7_col4\" class=\"data row7 col4\" >42.55</td>\n",
              "    </tr>\n",
              "    <tr>\n",
              "      <td id=\"T_ebe24_row8_col0\" class=\"data row8 col0\" >Stayed</td>\n",
              "      <td id=\"T_ebe24_row8_col1\" class=\"data row8 col1\" >Female</td>\n",
              "      <td id=\"T_ebe24_row8_col2\" class=\"data row8 col2\" >Yes</td>\n",
              "      <td id=\"T_ebe24_row8_col3\" class=\"data row8 col3\" >1323</td>\n",
              "      <td id=\"T_ebe24_row8_col4\" class=\"data row8 col4\" >64.67</td>\n",
              "    </tr>\n",
              "    <tr>\n",
              "      <td id=\"T_ebe24_row9_col0\" class=\"data row9 col0\" >Stayed</td>\n",
              "      <td id=\"T_ebe24_row9_col1\" class=\"data row9 col1\" >Female</td>\n",
              "      <td id=\"T_ebe24_row9_col2\" class=\"data row9 col2\" >No</td>\n",
              "      <td id=\"T_ebe24_row9_col3\" class=\"data row9 col3\" >1015</td>\n",
              "      <td id=\"T_ebe24_row9_col4\" class=\"data row9 col4\" >61.51</td>\n",
              "    </tr>\n",
              "    <tr>\n",
              "      <td id=\"T_ebe24_row10_col0\" class=\"data row10 col0\" >Stayed</td>\n",
              "      <td id=\"T_ebe24_row10_col1\" class=\"data row10 col1\" >Male</td>\n",
              "      <td id=\"T_ebe24_row10_col2\" class=\"data row10 col2\" >Yes</td>\n",
              "      <td id=\"T_ebe24_row10_col3\" class=\"data row10 col3\" >1326</td>\n",
              "      <td id=\"T_ebe24_row10_col4\" class=\"data row10 col4\" >66.2</td>\n",
              "    </tr>\n",
              "    <tr>\n",
              "      <td id=\"T_ebe24_row11_col0\" class=\"data row11 col0\" >Stayed</td>\n",
              "      <td id=\"T_ebe24_row11_col1\" class=\"data row11 col1\" >Male</td>\n",
              "      <td id=\"T_ebe24_row11_col2\" class=\"data row11 col2\" >No</td>\n",
              "      <td id=\"T_ebe24_row11_col3\" class=\"data row11 col3\" >1056</td>\n",
              "      <td id=\"T_ebe24_row11_col4\" class=\"data row11 col4\" >58.21</td>\n",
              "    </tr>\n",
              "  </tbody>\n",
              "</table>\n"
            ],
            "text/plain": [
              "<pandas.io.formats.style.Styler at 0x156044c50>"
            ]
          },
          "metadata": {},
          "output_type": "display_data"
        }
      ],
      "source": [
        "SELECT\n",
        " sts.status,\n",
        " cdm.gender,\n",
        " cdm.married,\n",
        " count (sts.customer_id) as total_customer,\n",
        " avg(cdm.age) as average_age,\n",
        " avg(srv.monthly_charge) as avg_monthly_charge\n",
        "from telco_churn.customer_status as sts\n",
        "inner join telco_churn.telco_services as srv on sts.customer_id = srv.customer_id\n",
        "inner join telco_churn.customer_demography as cdm on sts.customer_id = cdm.customer_id\n",
        "GROUP BY sts.status, cdm.gender, cdm.married\n",
        "ORDER BY total_customer DESC, avg_monthly_charge DESC"
      ]
    },
    {
      "cell_type": "markdown",
      "metadata": {
        "id": "IEQ2tFuHatdc"
      },
      "source": [
        "<b><span style='color:#FFDB00'><i>Interpretasi Hasil : </i></span></b><br>\n",
        "**Pelanggan Churned (Berhenti)**\n",
        "\n",
        "Male Married (Yes):\n",
        "Total pelanggan(350)\n",
        "Rata-rata biaya bulanan($81.45) {tertinggi di kategori churned}.\n",
        "Pria yang menikah dengan rata-rata biaya tinggi cenderung lebih rentan berhenti. Mungkin karena mereka menggunakan layanan premium atau paket mahal yang dianggap tidak sebanding dengan nilai yang diterima.\n",
        "\n",
        "Female Married (Yes):Total pelanggan(319)\n",
        "Rata-rata biaya bulanan($78.00).\n",
        "Wanita menikah dengan biaya cukup tinggi juga cenderung berhenti, tetapi angkanya lebih kecil dibanding pria menikah.\n",
        "\n",
        "Male Not Married (No):Total pelanggan(580) {terbanyak}.\n",
        "Rata-rata biaya bulanan ($69.61) {terendah di kategori churned}.\n",
        "Pria tidak menikah dengan biaya lebih rendah memiliki tingkat churn lebih tinggi, mungkin mereka lebih sensitif terhadap harga.\n",
        "\n",
        "Female Not Married (No):Total pelanggan (620) {terbanyak di churned female}.Rata-rata biaya bulanan($73.17).\n",
        "Wanita tidak menikah cenderung berhenti dengan rata-rata biaya lebih moderat, namun jumlah mereka cukup signifikan.\n",
        "\n",
        "**Pelanggan Joined (Baru)**\n",
        "\n",
        "Female Married (Yes):Total pelanggan(46)\n",
        "Rata-rata biaya bulanan($43.47) {terendah di kategori joined}.\n",
        "Wanita menikah tampaknya lebih berhati-hati memilih paket dengan biaya rendah ketika menjadi pelanggan baru.\n",
        "\n",
        "Male Married (Yes):Total pelanggan(38)\n",
        "Rata-rata biaya bulanan($48.11) {tertinggi di kategori joined}.\n",
        "Pria menikah cenderung memilih paket yang sedikit lebih mahal dibandingkan wanita.\n",
        "\n",
        "Female Not Married (No):Total pelanggan(165) {terbanyak di kategori joined}.Rata-rata biaya bulanan($43.47).\n",
        "Wanita tidak menikah mendominasi kategori pelanggan baru dengan rata-rata pengeluaran rendah.\n",
        "\n",
        "Male Not Married (No):Total pelanggan(205) {terbanyak di kategori joined}.\n",
        "Rata-rata biaya bulanan($42.35) {terendah di kategori joined male}.\n",
        "Pria tidak menikah cenderung memilih paket dengan pengeluaran yang rendah.\n",
        "\n",
        "**Pelanggan Stayed (Bertahan)**\n",
        "\n",
        "Female Married (Yes):Total pelanggan(1,323) {terbanyak di kategori stayed}.Rata-rata biaya bulanan($64.67) {lebih tinggi dari male married stayed}.Wanita menikah menunjukkan loyalitas lebih tinggi meskipun biaya mereka sedikit lebih tinggi.\n",
        "\n",
        "**Kesimpulannya:**\n",
        "\n",
        "\n",
        "*   Churn Tinggi pada Pelanggan Biaya Tinggi:\n",
        "Pria menikah dan wanita menikah dengan biaya tinggi cenderung berhenti lebih sering, menunjukkan potensi sensitivitas terhadap nilai layanan dibandingkan dengan biaya.\n",
        "Peluang Upselling pada Pelanggan Baru:\n",
        "\n",
        "*   Peluang Upselling pada Pelanggan Baru:\n",
        "Pelanggan baru cenderung memilih paket dengan biaya lebih rendah, sehingga strategi upselling dengan menambahkan manfaat yang jelas (bundling, diskon jangka panjang) dapat meningkatkan rata-rata pendapatan.\n",
        "Retensi Pelanggan Stayed:\n",
        "\n",
        "*   Retensi Pelanggan Stayed:\n",
        "Wanita menikah memiliki tingkat retensi yang tinggi, sehingga mereka dapat menjadi fokus untuk mempertahankan loyalitas melalui insentif seperti penghargaan pelanggan setia."
      ]
    },
    {
      "cell_type": "markdown",
      "metadata": {
        "id": "1zb2Iab6atdd"
      },
      "source": [
        "#### <i><b><span style='color:#55679C'>Quest : </span>Bagaimana dengan total tenure ? Hitung berapa rata-rata tenure_in_month tiap status customer! Tampilkan status, total_customer, avg_tenure_in_month! Interpretasikan insight dari hasil perhitungan!"
      ]
    },
    {
      "cell_type": "code",
      "execution_count": null,
      "metadata": {
        "id": "7n5To16Latdd",
        "outputId": "87027f38-39f9-4188-c799-68739495cd61"
      },
      "outputs": [
        {
          "data": {
            "text/html": [
              "<style type=\"text/css\">\n",
              "</style>\n",
              "<table id=\"T_9621b\">\n",
              "  <thead>\n",
              "    <tr>\n",
              "      <th id=\"T_9621b_level0_col0\" class=\"col_heading level0 col0\" >status</th>\n",
              "      <th id=\"T_9621b_level0_col1\" class=\"col_heading level0 col1\" >total_customer</th>\n",
              "      <th id=\"T_9621b_level0_col2\" class=\"col_heading level0 col2\" >avg_tenure_in_month</th>\n",
              "    </tr>\n",
              "  </thead>\n",
              "  <tbody>\n",
              "    <tr>\n",
              "      <td id=\"T_9621b_row0_col0\" class=\"data row0 col0\" >Churned</td>\n",
              "      <td id=\"T_9621b_row0_col1\" class=\"data row0 col1\" >1869</td>\n",
              "      <td id=\"T_9621b_row0_col2\" class=\"data row0 col2\" >17.98</td>\n",
              "    </tr>\n",
              "    <tr>\n",
              "      <td id=\"T_9621b_row1_col0\" class=\"data row1 col0\" >Joined</td>\n",
              "      <td id=\"T_9621b_row1_col1\" class=\"data row1 col1\" >454</td>\n",
              "      <td id=\"T_9621b_row1_col2\" class=\"data row1 col2\" >1.72</td>\n",
              "    </tr>\n",
              "    <tr>\n",
              "      <td id=\"T_9621b_row2_col0\" class=\"data row2 col0\" >Stayed</td>\n",
              "      <td id=\"T_9621b_row2_col1\" class=\"data row2 col1\" >4720</td>\n",
              "      <td id=\"T_9621b_row2_col2\" class=\"data row2 col2\" >41.04</td>\n",
              "    </tr>\n",
              "  </tbody>\n",
              "</table>\n"
            ],
            "text/plain": [
              "<pandas.io.formats.style.Styler at 0x1400c6790>"
            ]
          },
          "metadata": {},
          "output_type": "display_data"
        }
      ],
      "source": [
        "SELECT\n",
        " sts.status,\n",
        " COUNT(sts.customer_id) AS total_customer,\n",
        " ROUND(AVG(srv.tenure_in_months),2) AS avg_tenure_in_months\n",
        "FROM telco_churn.customer_status AS sts\n",
        "INNER JOIN telco_churn.telco_services AS srv ON sts.customer_id = srv.customer_id\n",
        "GROUP BY sts.status"
      ]
    },
    {
      "cell_type": "markdown",
      "metadata": {
        "id": "TvjQc_F1atdd"
      },
      "source": [
        "<b><span style='color:#FFDB00'><i>Interpretasi Hasil : </i></span></b><br>\n",
        "Churned (Berhenti)\n",
        "\n",
        "*   Churned (Berhenti)\n",
        "\n",
        "Total Pelanggan: 1.869\n",
        "Rata-rata Tenure: 17,98 bulan\n",
        "Pelanggan churned memiliki waktu penggunaan rata-rata sekitar 1,5 tahun. Hal ini menunjukkan bahwa sebagian besar pelanggan churned sudah menggunakan layanan cukup lama sebelum akhirnya memutuskan berhenti, kemungkinan karena adanya ketidakpuasan atau kebutuhan yang tidak terpenuhi setelah beberapa waktu.\n",
        "Joined (Baru)\n",
        "\n",
        "*   Joined (Baru)\n",
        "\n",
        "Total Pelanggan: 454\n",
        "Rata-rata Tenure: 1,72 bulan\n",
        "Pelanggan baru memiliki waktu penggunaan rata-rata yang sangat singkat, kurang dari 2 bulan. Ini menunjukkan bahwa kelompok ini sebagian besar terdiri dari pelanggan yang baru saja mulai menggunakan layanan, sehingga loyalitas mereka belum terbentuk sepenuhnya.\n",
        "Stayed (Bertahan)\n",
        "\n",
        "*   Stayed (Bertahan)\n",
        "\n",
        "Total Pelanggan: 4.720\n",
        "Rata-rata Tenure: 41,04 bulan\n",
        "Pelanggan stayed memiliki waktu penggunaan rata-rata yang panjang, sekitar 3,5 tahun. Ini mengindikasikan bahwa kelompok ini sangat loyal terhadap layanan yang ditawarkan, kemungkinan karena layanan yang sesuai dengan kebutuhan mereka.\n",
        "\n",
        "\n",
        "**Churned Pelanggan dengan Tenure Lama:** Pelanggan churned cenderung bertahan cukup lama sebelum memutuskan berhenti, sehingga strategi retensi perlu difokuskan untuk mengurangi churn pada tahap akhir siklus pelanggan (misalnya, dengan menawarkan diskon atau fitur tambahan).\n",
        "\n",
        "**Pelanggan Baru (Joined) Rentan Churn:** Karena rata-rata tenure pelanggan baru sangat singkat, upaya onboarding yang efektif (seperti tutorial layanan, promosi awal, atau bonus) dapat membantu meningkatkan engagement mereka dan mengurangi churn di tahap awal.\n",
        "\n",
        "**Pelanggan Stayed Sangat Loyal:** Pelanggan stayed memiliki tenure yang jauh lebih tinggi, menunjukkan loyalitas kuat. Upaya mempertahankan kelompok ini, seperti program penghargaan loyalitas, dapat semakin memperkuat hubungan pelanggan.\n",
        "\n",
        "Saran Strategi:\n",
        "\n",
        "Fokus pada retensi pelanggan churned dengan masa penggunaan > 1 tahun melalui survei kepuasan atau penawaran khusus.\n",
        "Tingkatkan engagement pada pelanggan baru untuk memastikan mereka mencapai tahap \"loyal\"."
      ]
    },
    {
      "cell_type": "markdown",
      "metadata": {
        "id": "e9W81eMXatde"
      },
      "source": [
        "#### <i><b><span style='color:#55679C'>Quest : </span>Perusahaan telekomunikasi ingin melakukan perluasan market ke beberapa daerah yang mana di daerah tersebut belum ada pelanggan terdaftar dalam database. Buatkan daftar kode pos pada tabel population yang sama sekali belum ada orang yang menggunakan layanan telekomunikasi! Tampilkan kode pos dan jumlah populasinya!"
      ]
    },
    {
      "cell_type": "code",
      "execution_count": null,
      "metadata": {
        "id": "39W36-Vuatde",
        "outputId": "6c3a6eff-e312-4b4b-f910-eb7f9e033c79"
      },
      "outputs": [
        {
          "data": {
            "text/html": [
              "<style type=\"text/css\">\n",
              "</style>\n",
              "<table id=\"T_8dab3\">\n",
              "  <thead>\n",
              "    <tr>\n",
              "      <th id=\"T_8dab3_level0_col0\" class=\"col_heading level0 col0\" >zip_code</th>\n",
              "      <th id=\"T_8dab3_level0_col1\" class=\"col_heading level0 col1\" >population</th>\n",
              "      <th id=\"T_8dab3_level0_col2\" class=\"col_heading level0 col2\" >total_customer</th>\n",
              "    </tr>\n",
              "  </thead>\n",
              "  <tbody>\n",
              "    <tr>\n",
              "      <td id=\"T_8dab3_row0_col0\" class=\"data row0 col0\" >91402</td>\n",
              "      <td id=\"T_8dab3_row0_col1\" class=\"data row0 col1\" >66249</td>\n",
              "      <td id=\"T_8dab3_row0_col2\" class=\"data row0 col2\" >0</td>\n",
              "    </tr>\n",
              "    <tr>\n",
              "      <td id=\"T_8dab3_row1_col0\" class=\"data row1 col0\" >95023</td>\n",
              "      <td id=\"T_8dab3_row1_col1\" class=\"data row1 col1\" >47514</td>\n",
              "      <td id=\"T_8dab3_row1_col2\" class=\"data row1 col2\" >0</td>\n",
              "    </tr>\n",
              "    <tr>\n",
              "      <td id=\"T_8dab3_row2_col0\" class=\"data row2 col0\" >90020</td>\n",
              "      <td id=\"T_8dab3_row2_col1\" class=\"data row2 col1\" >42394</td>\n",
              "      <td id=\"T_8dab3_row2_col2\" class=\"data row2 col2\" >0</td>\n",
              "    </tr>\n",
              "    <tr>\n",
              "      <td id=\"T_8dab3_row3_col0\" class=\"data row3 col0\" >92307</td>\n",
              "      <td id=\"T_8dab3_row3_col1\" class=\"data row3 col1\" >31876</td>\n",
              "      <td id=\"T_8dab3_row3_col2\" class=\"data row3 col2\" >0</td>\n",
              "    </tr>\n",
              "    <tr>\n",
              "      <td id=\"T_8dab3_row4_col0\" class=\"data row4 col0\" >93555</td>\n",
              "      <td id=\"T_8dab3_row4_col1\" class=\"data row4 col1\" >29782</td>\n",
              "      <td id=\"T_8dab3_row4_col2\" class=\"data row4 col2\" >0</td>\n",
              "    </tr>\n",
              "    <tr>\n",
              "      <td id=\"T_8dab3_row5_col0\" class=\"data row5 col0\" >95531</td>\n",
              "      <td id=\"T_8dab3_row5_col1\" class=\"data row5 col1\" >23792</td>\n",
              "      <td id=\"T_8dab3_row5_col2\" class=\"data row5 col2\" >0</td>\n",
              "    </tr>\n",
              "    <tr>\n",
              "      <td id=\"T_8dab3_row6_col0\" class=\"data row6 col0\" >92277</td>\n",
              "      <td id=\"T_8dab3_row6_col1\" class=\"data row6 col1\" >17178</td>\n",
              "      <td id=\"T_8dab3_row6_col2\" class=\"data row6 col2\" >0</td>\n",
              "    </tr>\n",
              "    <tr>\n",
              "      <td id=\"T_8dab3_row7_col0\" class=\"data row7 col0\" >96161</td>\n",
              "      <td id=\"T_8dab3_row7_col1\" class=\"data row7 col1\" >15783</td>\n",
              "      <td id=\"T_8dab3_row7_col2\" class=\"data row7 col2\" >0</td>\n",
              "    </tr>\n",
              "    <tr>\n",
              "      <td id=\"T_8dab3_row8_col0\" class=\"data row8 col0\" >93640</td>\n",
              "      <td id=\"T_8dab3_row8_col1\" class=\"data row8 col1\" >9174</td>\n",
              "      <td id=\"T_8dab3_row8_col2\" class=\"data row8 col2\" >0</td>\n",
              "    </tr>\n",
              "    <tr>\n",
              "      <td id=\"T_8dab3_row9_col0\" class=\"data row9 col0\" >96064</td>\n",
              "      <td id=\"T_8dab3_row9_col1\" class=\"data row9 col1\" >4592</td>\n",
              "      <td id=\"T_8dab3_row9_col2\" class=\"data row9 col2\" >0</td>\n",
              "    </tr>\n",
              "    <tr>\n",
              "      <td id=\"T_8dab3_row10_col0\" class=\"data row10 col0\" >...</td>\n",
              "      <td id=\"T_8dab3_row10_col1\" class=\"data row10 col1\" >...</td>\n",
              "      <td id=\"T_8dab3_row10_col2\" class=\"data row10 col2\" >...</td>\n",
              "    </tr>\n",
              "  </tbody>\n",
              "</table>\n"
            ],
            "text/plain": [
              "<pandas.io.formats.style.Styler at 0x1511ce350>"
            ]
          },
          "metadata": {},
          "output_type": "display_data"
        }
      ],
      "source": [
        "SELECT\n",
        " pop.zip_code,\n",
        " pop.population,\n",
        " COUNT(loc.customer_id) AS total_customer\n",
        "FROM telco_churn.customer_location loc\n",
        "RIGHT JOIN telco_churn.population pop ON loc.zip_code = pop.zip_code\n",
        "GROUP BY pop.zip_code,pop.population\n",
        "HAVING COUNT(loc.customer_id) = 0"
      ]
    },
    {
      "cell_type": "markdown",
      "metadata": {
        "id": "l0mRijvCatde"
      },
      "source": [
        "<b><span style='color:#FFDB00'><i>Interpretasi Hasil : </i></span></b><br>\n",
        "\n",
        "**Kolom-Kolom dalam Output:**\n",
        "*   zip_code: Kode pos yang berasal dari tabel population.\n",
        "*   population: Total populasi yang tinggal di kode pos tersebut.\n",
        "*   total_customer: Jumlah pelanggan dari tabel customer_location di kode pos tersebut. Dalam kasus ini, semua nilai adalah 0.\n",
        "\n",
        "**Makna Hasil:**\n",
        "\n",
        "*   Semua kode pos yang ditampilkan (contoh: 91402, 95023, 90020, dll.) memiliki 0 pelanggan di tabel customer_location.\n",
        "*   Namun, setiap kode pos memiliki jumlah populasi tertentu di tabel population.\n",
        "\n",
        "**RIGHT JOIN** memastikan semua data dari tabel population ditampilkan, meskipun tidak memiliki kecocokan di tabel customer_location.\n",
        "Kondisi HAVING COUNT(loc.customer_id) = 0 memfilter hanya kode pos yang tidak memiliki pelanggan sama sekali.\n"
      ]
    }
  ],
  "metadata": {
    "kernelspec": {
      "display_name": "base",
      "language": "python",
      "name": "python3"
    },
    "language_info": {
      "codemirror_mode": {
        "name": "ipython",
        "version": 3
      },
      "file_extension": ".py",
      "mimetype": "text/x-python",
      "name": "python",
      "nbconvert_exporter": "python",
      "pygments_lexer": "ipython3",
      "version": "3.11.8"
    },
    "colab": {
      "provenance": []
    }
  },
  "nbformat": 4,
  "nbformat_minor": 0
}